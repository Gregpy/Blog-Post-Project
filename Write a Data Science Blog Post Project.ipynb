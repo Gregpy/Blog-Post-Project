{
 "cells": [
  {
   "cell_type": "markdown",
   "metadata": {},
   "source": [
    "# Business Understanding: In this notebook we will ask questions of whether individually undergrad major, formal education, or parent education correlate with concern about job security. This aspect could have an effect on work stress and performance. "
   ]
  },
  {
   "cell_type": "markdown",
   "metadata": {},
   "source": [
    "# Prepare Data: Data is taken from the Stackoverflow survey from 2017.  Info about the data is displayed to get an idea of what is available and how to prepare it.  A data frame of the relevant features is made: 'MajorUndergrad', 'FormalEducation', 'HighestEducationParents', and 'JobSecurity'. Rows with NaN values in job security are dropped. Job security concern is changed to a numerical rating, 1-5 for strongly disagree to strongly agree, respectively.  Functions are made to take the means and standard deviations job security rating for each feature value, and then to plot them (in the order of higher or more computer related degrees)  vs. the ratings, with the point of gleaning answers for the questions of interest. "
   ]
  },
  {
   "cell_type": "code",
   "execution_count": 401,
   "metadata": {},
   "outputs": [
    {
     "data": {
      "text/html": [
       "<div>\n",
       "<style scoped>\n",
       "    .dataframe tbody tr th:only-of-type {\n",
       "        vertical-align: middle;\n",
       "    }\n",
       "\n",
       "    .dataframe tbody tr th {\n",
       "        vertical-align: top;\n",
       "    }\n",
       "\n",
       "    .dataframe thead th {\n",
       "        text-align: right;\n",
       "    }\n",
       "</style>\n",
       "<table border=\"1\" class=\"dataframe\">\n",
       "  <thead>\n",
       "    <tr style=\"text-align: right;\">\n",
       "      <th></th>\n",
       "      <th>Respondent</th>\n",
       "      <th>Professional</th>\n",
       "      <th>ProgramHobby</th>\n",
       "      <th>Country</th>\n",
       "      <th>University</th>\n",
       "      <th>EmploymentStatus</th>\n",
       "      <th>FormalEducation</th>\n",
       "      <th>MajorUndergrad</th>\n",
       "      <th>HomeRemote</th>\n",
       "      <th>CompanySize</th>\n",
       "      <th>...</th>\n",
       "      <th>StackOverflowMakeMoney</th>\n",
       "      <th>Gender</th>\n",
       "      <th>HighestEducationParents</th>\n",
       "      <th>Race</th>\n",
       "      <th>SurveyLong</th>\n",
       "      <th>QuestionsInteresting</th>\n",
       "      <th>QuestionsConfusing</th>\n",
       "      <th>InterestedAnswers</th>\n",
       "      <th>Salary</th>\n",
       "      <th>ExpectedSalary</th>\n",
       "    </tr>\n",
       "  </thead>\n",
       "  <tbody>\n",
       "    <tr>\n",
       "      <th>0</th>\n",
       "      <td>1</td>\n",
       "      <td>Student</td>\n",
       "      <td>Yes, both</td>\n",
       "      <td>United States</td>\n",
       "      <td>No</td>\n",
       "      <td>Not employed, and not looking for work</td>\n",
       "      <td>Secondary school</td>\n",
       "      <td>NaN</td>\n",
       "      <td>NaN</td>\n",
       "      <td>NaN</td>\n",
       "      <td>...</td>\n",
       "      <td>Strongly disagree</td>\n",
       "      <td>Male</td>\n",
       "      <td>High school</td>\n",
       "      <td>White or of European descent</td>\n",
       "      <td>Strongly disagree</td>\n",
       "      <td>Strongly agree</td>\n",
       "      <td>Disagree</td>\n",
       "      <td>Strongly agree</td>\n",
       "      <td>NaN</td>\n",
       "      <td>NaN</td>\n",
       "    </tr>\n",
       "    <tr>\n",
       "      <th>1</th>\n",
       "      <td>2</td>\n",
       "      <td>Student</td>\n",
       "      <td>Yes, both</td>\n",
       "      <td>United Kingdom</td>\n",
       "      <td>Yes, full-time</td>\n",
       "      <td>Employed part-time</td>\n",
       "      <td>Some college/university study without earning ...</td>\n",
       "      <td>Computer science or software engineering</td>\n",
       "      <td>More than half, but not all, the time</td>\n",
       "      <td>20 to 99 employees</td>\n",
       "      <td>...</td>\n",
       "      <td>Strongly disagree</td>\n",
       "      <td>Male</td>\n",
       "      <td>A master's degree</td>\n",
       "      <td>White or of European descent</td>\n",
       "      <td>Somewhat agree</td>\n",
       "      <td>Somewhat agree</td>\n",
       "      <td>Disagree</td>\n",
       "      <td>Strongly agree</td>\n",
       "      <td>NaN</td>\n",
       "      <td>37500.0</td>\n",
       "    </tr>\n",
       "    <tr>\n",
       "      <th>2</th>\n",
       "      <td>3</td>\n",
       "      <td>Professional developer</td>\n",
       "      <td>Yes, both</td>\n",
       "      <td>United Kingdom</td>\n",
       "      <td>No</td>\n",
       "      <td>Employed full-time</td>\n",
       "      <td>Bachelor's degree</td>\n",
       "      <td>Computer science or software engineering</td>\n",
       "      <td>Less than half the time, but at least one day ...</td>\n",
       "      <td>10,000 or more employees</td>\n",
       "      <td>...</td>\n",
       "      <td>Disagree</td>\n",
       "      <td>Male</td>\n",
       "      <td>A professional degree</td>\n",
       "      <td>White or of European descent</td>\n",
       "      <td>Somewhat agree</td>\n",
       "      <td>Agree</td>\n",
       "      <td>Disagree</td>\n",
       "      <td>Agree</td>\n",
       "      <td>113750.0</td>\n",
       "      <td>NaN</td>\n",
       "    </tr>\n",
       "    <tr>\n",
       "      <th>3</th>\n",
       "      <td>4</td>\n",
       "      <td>Professional non-developer who sometimes write...</td>\n",
       "      <td>Yes, both</td>\n",
       "      <td>United States</td>\n",
       "      <td>No</td>\n",
       "      <td>Employed full-time</td>\n",
       "      <td>Doctoral degree</td>\n",
       "      <td>A non-computer-focused engineering discipline</td>\n",
       "      <td>Less than half the time, but at least one day ...</td>\n",
       "      <td>10,000 or more employees</td>\n",
       "      <td>...</td>\n",
       "      <td>Disagree</td>\n",
       "      <td>Male</td>\n",
       "      <td>A doctoral degree</td>\n",
       "      <td>White or of European descent</td>\n",
       "      <td>Agree</td>\n",
       "      <td>Agree</td>\n",
       "      <td>Somewhat agree</td>\n",
       "      <td>Strongly agree</td>\n",
       "      <td>NaN</td>\n",
       "      <td>NaN</td>\n",
       "    </tr>\n",
       "    <tr>\n",
       "      <th>4</th>\n",
       "      <td>5</td>\n",
       "      <td>Professional developer</td>\n",
       "      <td>Yes, I program as a hobby</td>\n",
       "      <td>Switzerland</td>\n",
       "      <td>No</td>\n",
       "      <td>Employed full-time</td>\n",
       "      <td>Master's degree</td>\n",
       "      <td>Computer science or software engineering</td>\n",
       "      <td>Never</td>\n",
       "      <td>10 to 19 employees</td>\n",
       "      <td>...</td>\n",
       "      <td>NaN</td>\n",
       "      <td>NaN</td>\n",
       "      <td>NaN</td>\n",
       "      <td>NaN</td>\n",
       "      <td>NaN</td>\n",
       "      <td>NaN</td>\n",
       "      <td>NaN</td>\n",
       "      <td>NaN</td>\n",
       "      <td>NaN</td>\n",
       "      <td>NaN</td>\n",
       "    </tr>\n",
       "  </tbody>\n",
       "</table>\n",
       "<p>5 rows × 154 columns</p>\n",
       "</div>"
      ],
      "text/plain": [
       "   Respondent                                       Professional  \\\n",
       "0           1                                            Student   \n",
       "1           2                                            Student   \n",
       "2           3                             Professional developer   \n",
       "3           4  Professional non-developer who sometimes write...   \n",
       "4           5                             Professional developer   \n",
       "\n",
       "                ProgramHobby         Country      University  \\\n",
       "0                  Yes, both   United States              No   \n",
       "1                  Yes, both  United Kingdom  Yes, full-time   \n",
       "2                  Yes, both  United Kingdom              No   \n",
       "3                  Yes, both   United States              No   \n",
       "4  Yes, I program as a hobby     Switzerland              No   \n",
       "\n",
       "                         EmploymentStatus  \\\n",
       "0  Not employed, and not looking for work   \n",
       "1                      Employed part-time   \n",
       "2                      Employed full-time   \n",
       "3                      Employed full-time   \n",
       "4                      Employed full-time   \n",
       "\n",
       "                                     FormalEducation  \\\n",
       "0                                   Secondary school   \n",
       "1  Some college/university study without earning ...   \n",
       "2                                  Bachelor's degree   \n",
       "3                                    Doctoral degree   \n",
       "4                                    Master's degree   \n",
       "\n",
       "                                  MajorUndergrad  \\\n",
       "0                                            NaN   \n",
       "1       Computer science or software engineering   \n",
       "2       Computer science or software engineering   \n",
       "3  A non-computer-focused engineering discipline   \n",
       "4       Computer science or software engineering   \n",
       "\n",
       "                                          HomeRemote  \\\n",
       "0                                                NaN   \n",
       "1              More than half, but not all, the time   \n",
       "2  Less than half the time, but at least one day ...   \n",
       "3  Less than half the time, but at least one day ...   \n",
       "4                                              Never   \n",
       "\n",
       "                CompanySize       ...       StackOverflowMakeMoney Gender  \\\n",
       "0                       NaN       ...            Strongly disagree   Male   \n",
       "1        20 to 99 employees       ...            Strongly disagree   Male   \n",
       "2  10,000 or more employees       ...                     Disagree   Male   \n",
       "3  10,000 or more employees       ...                     Disagree   Male   \n",
       "4        10 to 19 employees       ...                          NaN    NaN   \n",
       "\n",
       "  HighestEducationParents                          Race         SurveyLong  \\\n",
       "0             High school  White or of European descent  Strongly disagree   \n",
       "1       A master's degree  White or of European descent     Somewhat agree   \n",
       "2   A professional degree  White or of European descent     Somewhat agree   \n",
       "3       A doctoral degree  White or of European descent              Agree   \n",
       "4                     NaN                           NaN                NaN   \n",
       "\n",
       "  QuestionsInteresting QuestionsConfusing InterestedAnswers    Salary  \\\n",
       "0       Strongly agree           Disagree    Strongly agree       NaN   \n",
       "1       Somewhat agree           Disagree    Strongly agree       NaN   \n",
       "2                Agree           Disagree             Agree  113750.0   \n",
       "3                Agree     Somewhat agree    Strongly agree       NaN   \n",
       "4                  NaN                NaN               NaN       NaN   \n",
       "\n",
       "   ExpectedSalary  \n",
       "0             NaN  \n",
       "1         37500.0  \n",
       "2             NaN  \n",
       "3             NaN  \n",
       "4             NaN  \n",
       "\n",
       "[5 rows x 154 columns]"
      ]
     },
     "execution_count": 401,
     "metadata": {},
     "output_type": "execute_result"
    }
   ],
   "source": [
    "import pandas as pd\n",
    "import matplotlib.pyplot as plt\n",
    "%matplotlib inline\n",
    "\n",
    "# Gather the data\n",
    "df = pd.read_csv('./survey_results_public.csv')\n",
    "schema = pd.read_csv('./survey_results_schema.csv')\n",
    "df.head()"
   ]
  },
  {
   "cell_type": "code",
   "execution_count": 402,
   "metadata": {},
   "outputs": [
    {
     "data": {
      "text/html": [
       "<div>\n",
       "<style scoped>\n",
       "    .dataframe tbody tr th:only-of-type {\n",
       "        vertical-align: middle;\n",
       "    }\n",
       "\n",
       "    .dataframe tbody tr th {\n",
       "        vertical-align: top;\n",
       "    }\n",
       "\n",
       "    .dataframe thead th {\n",
       "        text-align: right;\n",
       "    }\n",
       "</style>\n",
       "<table border=\"1\" class=\"dataframe\">\n",
       "  <thead>\n",
       "    <tr style=\"text-align: right;\">\n",
       "      <th></th>\n",
       "      <th>Respondent</th>\n",
       "      <th>CareerSatisfaction</th>\n",
       "      <th>JobSatisfaction</th>\n",
       "      <th>HoursPerWeek</th>\n",
       "      <th>StackOverflowSatisfaction</th>\n",
       "      <th>Salary</th>\n",
       "      <th>ExpectedSalary</th>\n",
       "    </tr>\n",
       "  </thead>\n",
       "  <tbody>\n",
       "    <tr>\n",
       "      <th>count</th>\n",
       "      <td>19102.000000</td>\n",
       "      <td>16102.000000</td>\n",
       "      <td>15253.000000</td>\n",
       "      <td>7721.000000</td>\n",
       "      <td>13452.000000</td>\n",
       "      <td>5009.000000</td>\n",
       "      <td>818.000000</td>\n",
       "    </tr>\n",
       "    <tr>\n",
       "      <th>mean</th>\n",
       "      <td>9551.500000</td>\n",
       "      <td>7.343932</td>\n",
       "      <td>7.000721</td>\n",
       "      <td>3.685922</td>\n",
       "      <td>8.357865</td>\n",
       "      <td>58341.398571</td>\n",
       "      <td>32231.521687</td>\n",
       "    </tr>\n",
       "    <tr>\n",
       "      <th>std</th>\n",
       "      <td>5514.416757</td>\n",
       "      <td>1.919330</td>\n",
       "      <td>2.128648</td>\n",
       "      <td>7.330691</td>\n",
       "      <td>1.405546</td>\n",
       "      <td>40753.384986</td>\n",
       "      <td>28543.877274</td>\n",
       "    </tr>\n",
       "    <tr>\n",
       "      <th>min</th>\n",
       "      <td>1.000000</td>\n",
       "      <td>0.000000</td>\n",
       "      <td>0.000000</td>\n",
       "      <td>0.000000</td>\n",
       "      <td>0.000000</td>\n",
       "      <td>0.000000</td>\n",
       "      <td>0.000000</td>\n",
       "    </tr>\n",
       "    <tr>\n",
       "      <th>25%</th>\n",
       "      <td>4776.250000</td>\n",
       "      <td>6.000000</td>\n",
       "      <td>6.000000</td>\n",
       "      <td>0.000000</td>\n",
       "      <td>8.000000</td>\n",
       "      <td>27956.989247</td>\n",
       "      <td>4716.459735</td>\n",
       "    </tr>\n",
       "    <tr>\n",
       "      <th>50%</th>\n",
       "      <td>9551.500000</td>\n",
       "      <td>8.000000</td>\n",
       "      <td>7.000000</td>\n",
       "      <td>1.000000</td>\n",
       "      <td>8.000000</td>\n",
       "      <td>51612.903226</td>\n",
       "      <td>29784.946237</td>\n",
       "    </tr>\n",
       "    <tr>\n",
       "      <th>75%</th>\n",
       "      <td>14326.750000</td>\n",
       "      <td>9.000000</td>\n",
       "      <td>8.000000</td>\n",
       "      <td>3.000000</td>\n",
       "      <td>9.000000</td>\n",
       "      <td>83333.333333</td>\n",
       "      <td>50000.000000</td>\n",
       "    </tr>\n",
       "    <tr>\n",
       "      <th>max</th>\n",
       "      <td>19102.000000</td>\n",
       "      <td>10.000000</td>\n",
       "      <td>10.000000</td>\n",
       "      <td>40.000000</td>\n",
       "      <td>10.000000</td>\n",
       "      <td>195000.000000</td>\n",
       "      <td>120000.000000</td>\n",
       "    </tr>\n",
       "  </tbody>\n",
       "</table>\n",
       "</div>"
      ],
      "text/plain": [
       "         Respondent  CareerSatisfaction  JobSatisfaction  HoursPerWeek  \\\n",
       "count  19102.000000        16102.000000     15253.000000   7721.000000   \n",
       "mean    9551.500000            7.343932         7.000721      3.685922   \n",
       "std     5514.416757            1.919330         2.128648      7.330691   \n",
       "min        1.000000            0.000000         0.000000      0.000000   \n",
       "25%     4776.250000            6.000000         6.000000      0.000000   \n",
       "50%     9551.500000            8.000000         7.000000      1.000000   \n",
       "75%    14326.750000            9.000000         8.000000      3.000000   \n",
       "max    19102.000000           10.000000        10.000000     40.000000   \n",
       "\n",
       "       StackOverflowSatisfaction         Salary  ExpectedSalary  \n",
       "count               13452.000000    5009.000000      818.000000  \n",
       "mean                    8.357865   58341.398571    32231.521687  \n",
       "std                     1.405546   40753.384986    28543.877274  \n",
       "min                     0.000000       0.000000        0.000000  \n",
       "25%                     8.000000   27956.989247     4716.459735  \n",
       "50%                     8.000000   51612.903226    29784.946237  \n",
       "75%                     9.000000   83333.333333    50000.000000  \n",
       "max                    10.000000  195000.000000   120000.000000  "
      ]
     },
     "execution_count": 402,
     "metadata": {},
     "output_type": "execute_result"
    }
   ],
   "source": [
    "#Asses the data in the next number of cells\n",
    "df.describe()"
   ]
  },
  {
   "cell_type": "code",
   "execution_count": 403,
   "metadata": {},
   "outputs": [
    {
     "data": {
      "text/plain": [
       "Computer science or software engineering                        8098\n",
       "Computer engineering or electrical/electronics engineering      1645\n",
       "Computer programming or Web development                         1311\n",
       "Information technology, networking, or system administration     754\n",
       "A natural science                                                701\n",
       "Mathematics or statistics                                        667\n",
       "A non-computer-focused engineering discipline                    652\n",
       "A business discipline                                            341\n",
       "Something else                                                   333\n",
       "A humanities discipline                                          323\n",
       "Management information systems                                   257\n",
       "Fine arts or performing arts                                     229\n",
       "A social science                                                 228\n",
       "I never declared a major                                         222\n",
       "Psychology                                                        80\n",
       "A health science                                                  58\n",
       "Name: MajorUndergrad, dtype: int64"
      ]
     },
     "execution_count": 403,
     "metadata": {},
     "output_type": "execute_result"
    }
   ],
   "source": [
    "df.MajorUndergrad.value_counts()"
   ]
  },
  {
   "cell_type": "code",
   "execution_count": 404,
   "metadata": {},
   "outputs": [
    {
     "data": {
      "text/plain": [
       "A bachelor's degree                                    3671\n",
       "A master's degree                                      2825\n",
       "High school                                            2233\n",
       "Some college/university study, no bachelor's degree    1718\n",
       "A doctoral degree                                       748\n",
       "A professional degree                                   570\n",
       "Primary/elementary school                               516\n",
       "I don't know/not sure                                   278\n",
       "I prefer not to answer                                  224\n",
       "No education                                             70\n",
       "Name: HighestEducationParents, dtype: int64"
      ]
     },
     "execution_count": 404,
     "metadata": {},
     "output_type": "execute_result"
    }
   ],
   "source": [
    "df.HighestEducationParents.value_counts()"
   ]
  },
  {
   "cell_type": "code",
   "execution_count": 454,
   "metadata": {},
   "outputs": [
    {
     "data": {
      "text/plain": [
       "Bachelor's degree                                                    8099\n",
       "Master's degree                                                      4143\n",
       "Some college/university study without earning a bachelor's degree    2869\n",
       "Secondary school                                                     2227\n",
       "Doctoral degree                                                       551\n",
       "I prefer not to answer                                                409\n",
       "Primary/elementary school                                             404\n",
       "Professional degree                                                   255\n",
       "I never completed any formal education                                145\n",
       "Name: FormalEducation, dtype: int64"
      ]
     },
     "execution_count": 454,
     "metadata": {},
     "output_type": "execute_result"
    }
   ],
   "source": [
    "df.FormalEducation.value_counts()\n"
   ]
  },
  {
   "cell_type": "code",
   "execution_count": 406,
   "metadata": {},
   "outputs": [
    {
     "name": "stdout",
     "output_type": "stream",
     "text": [
      "<class 'pandas.core.frame.DataFrame'>\n",
      "RangeIndex: 19102 entries, 0 to 19101\n",
      "Data columns (total 154 columns):\n",
      "Respondent                          19102 non-null int64\n",
      "Professional                        19102 non-null object\n",
      "ProgramHobby                        19102 non-null object\n",
      "Country                             19102 non-null object\n",
      "University                          19102 non-null object\n",
      "EmploymentStatus                    19102 non-null object\n",
      "FormalEducation                     19102 non-null object\n",
      "MajorUndergrad                      15899 non-null object\n",
      "HomeRemote                          16471 non-null object\n",
      "CompanySize                         14653 non-null object\n",
      "CompanyType                         14609 non-null object\n",
      "YearsProgram                        19005 non-null object\n",
      "YearsCodedJob                       15391 non-null object\n",
      "YearsCodedJobPast                   349 non-null object\n",
      "DeveloperType                       13772 non-null object\n",
      "WebDeveloperType                    4286 non-null object\n",
      "MobileDeveloperType                 556 non-null object\n",
      "NonDeveloperType                    1688 non-null object\n",
      "CareerSatisfaction                  16102 non-null float64\n",
      "JobSatisfaction                     15253 non-null float64\n",
      "ExCoderReturn                       335 non-null object\n",
      "ExCoderNotForMe                     332 non-null object\n",
      "ExCoderBalance                      335 non-null object\n",
      "ExCoder10Years                      336 non-null object\n",
      "ExCoderBelonged                     335 non-null object\n",
      "ExCoderSkills                       336 non-null object\n",
      "ExCoderWillNotCode                  332 non-null object\n",
      "ExCoderActive                       335 non-null object\n",
      "PronounceGIF                        18940 non-null object\n",
      "ProblemSolving                      12220 non-null object\n",
      "BuildingThings                      12201 non-null object\n",
      "LearningNewTech                     12216 non-null object\n",
      "BoringDetails                       12190 non-null object\n",
      "JobSecurity                         12198 non-null object\n",
      "DiversityImportant                  12079 non-null object\n",
      "AnnoyingUI                          12140 non-null object\n",
      "FriendsDevelopers                   12143 non-null object\n",
      "RightWrongWay                       12112 non-null object\n",
      "UnderstandComputers                 12135 non-null object\n",
      "SeriousWork                         12132 non-null object\n",
      "InvestTimeTools                     12059 non-null object\n",
      "WorkPayCare                         12087 non-null object\n",
      "KinshipDevelopers                   11980 non-null object\n",
      "ChallengeMyself                     12089 non-null object\n",
      "CompetePeers                        12034 non-null object\n",
      "ChangeWorld                         12077 non-null object\n",
      "JobSeekingStatus                    12852 non-null object\n",
      "HoursPerWeek                        7721 non-null float64\n",
      "LastNewJob                          12578 non-null object\n",
      "AssessJobIndustry                   8401 non-null object\n",
      "AssessJobRole                       8403 non-null object\n",
      "AssessJobExp                        8398 non-null object\n",
      "AssessJobDept                       8390 non-null object\n",
      "AssessJobTech                       8420 non-null object\n",
      "AssessJobProjects                   8412 non-null object\n",
      "AssessJobCompensation               8407 non-null object\n",
      "AssessJobOffice                     8336 non-null object\n",
      "AssessJobCommute                    8331 non-null object\n",
      "AssessJobRemote                     8351 non-null object\n",
      "AssessJobLeaders                    8330 non-null object\n",
      "AssessJobProfDevel                  8341 non-null object\n",
      "AssessJobDiversity                  8324 non-null object\n",
      "AssessJobProduct                    8334 non-null object\n",
      "AssessJobFinances                   8351 non-null object\n",
      "ImportantBenefits                   11570 non-null object\n",
      "ClickyKeys                          15358 non-null object\n",
      "JobProfile                          9190 non-null object\n",
      "ResumePrompted                      8704 non-null object\n",
      "LearnedHiring                       9183 non-null object\n",
      "ImportantHiringAlgorithms           10890 non-null object\n",
      "ImportantHiringTechExp              10894 non-null object\n",
      "ImportantHiringCommunication        10879 non-null object\n",
      "ImportantHiringOpenSource           10864 non-null object\n",
      "ImportantHiringPMExp                10869 non-null object\n",
      "ImportantHiringCompanies            10851 non-null object\n",
      "ImportantHiringTitles               10859 non-null object\n",
      "ImportantHiringEducation            10883 non-null object\n",
      "ImportantHiringRep                  10878 non-null object\n",
      "ImportantHiringGettingThingsDone    10849 non-null object\n",
      "Currency                            8032 non-null object\n",
      "Overpaid                            5184 non-null object\n",
      "TabsSpaces                          14305 non-null object\n",
      "EducationImportant                  9065 non-null object\n",
      "EducationTypes                      11465 non-null object\n",
      "SelfTaughtTypes                     10173 non-null object\n",
      "TimeAfterBootcamp                   882 non-null object\n",
      "CousinEducation                     6906 non-null object\n",
      "WorkStart                           13523 non-null object\n",
      "HaveWorkedLanguage                  13526 non-null object\n",
      "WantWorkLanguage                    12523 non-null object\n",
      "HaveWorkedFramework                 7294 non-null object\n",
      "WantWorkFramework                   8499 non-null object\n",
      "HaveWorkedDatabase                  10792 non-null object\n",
      "WantWorkDatabase                    9159 non-null object\n",
      "HaveWorkedPlatform                  10580 non-null object\n",
      "WantWorkPlatform                    10158 non-null object\n",
      "IDE                                 13197 non-null object\n",
      "AuditoryEnvironment                 13451 non-null object\n",
      "Methodology                         9587 non-null object\n",
      "VersionControl                      11571 non-null object\n",
      "CheckInCode                         11204 non-null object\n",
      "ShipIt                              11209 non-null object\n",
      "OtherPeoplesCode                    11202 non-null object\n",
      "ProjectManagement                   11122 non-null object\n",
      "EnjoyDebugging                      11258 non-null object\n",
      "InTheZone                           11101 non-null object\n",
      "DifficultCommunication              11210 non-null object\n",
      "CollaborateRemote                   11130 non-null object\n",
      "MetricAssess                        9625 non-null object\n",
      "EquipmentSatisfiedMonitors          11130 non-null object\n",
      "EquipmentSatisfiedCPU               11127 non-null object\n",
      "EquipmentSatisfiedRAM               11133 non-null object\n",
      "EquipmentSatisfiedStorage           11100 non-null object\n",
      "EquipmentSatisfiedRW                11110 non-null object\n",
      "InfluenceInternet                   11106 non-null object\n",
      "InfluenceWorkstation                8262 non-null object\n",
      "InfluenceHardware                   8262 non-null object\n",
      "InfluenceServers                    8239 non-null object\n",
      "InfluenceTechStack                  8253 non-null object\n",
      "InfluenceDeptTech                   8243 non-null object\n",
      "InfluenceVizTools                   8244 non-null object\n",
      "InfluenceDatabase                   8255 non-null object\n",
      "InfluenceCloud                      8243 non-null object\n",
      "InfluenceConsultants                8229 non-null object\n",
      "InfluenceRecruitment                8244 non-null object\n",
      "InfluenceCommunication              8250 non-null object\n",
      "StackOverflowDescribes              13556 non-null object\n",
      "StackOverflowSatisfaction           13452 non-null float64\n",
      "StackOverflowDevices                12946 non-null object\n",
      "StackOverflowFoundAnswer            12691 non-null object\n",
      "StackOverflowCopiedCode             12577 non-null object\n",
      "StackOverflowJobListing             12425 non-null object\n",
      "StackOverflowCompanyPage            12411 non-null object\n",
      "StackOverflowJobSearch              12407 non-null object\n",
      "StackOverflowNewQuestion            12472 non-null object\n",
      "StackOverflowAnswer                 12445 non-null object\n",
      "StackOverflowMetaChat               12414 non-null object\n",
      "StackOverflowAdsRelevant            11527 non-null object\n",
      "StackOverflowAdsDistracting         11841 non-null object\n",
      "StackOverflowModeration             11336 non-null object\n",
      "StackOverflowCommunity              12064 non-null object\n",
      "StackOverflowHelpful                12542 non-null object\n",
      "StackOverflowBetter                 12462 non-null object\n",
      "StackOverflowWhatDo                 12385 non-null object\n",
      "StackOverflowMakeMoney              11668 non-null object\n",
      "Gender                              12910 non-null object\n",
      "HighestEducationParents             12853 non-null object\n",
      "Race                                12218 non-null object\n",
      "SurveyLong                          12803 non-null object\n",
      "QuestionsInteresting                12736 non-null object\n",
      "QuestionsConfusing                  12706 non-null object\n",
      "InterestedAnswers                   12760 non-null object\n",
      "Salary                              5009 non-null float64\n",
      "ExpectedSalary                      818 non-null float64\n",
      "dtypes: float64(6), int64(1), object(147)\n",
      "memory usage: 22.4+ MB\n"
     ]
    }
   ],
   "source": [
    "df.info(max_cols=155)"
   ]
  },
  {
   "cell_type": "code",
   "execution_count": 407,
   "metadata": {},
   "outputs": [
    {
     "data": {
      "text/plain": [
       "Agree                5208\n",
       "Somewhat agree       3112\n",
       "Strongly agree       2749\n",
       "Disagree              930\n",
       "Strongly disagree     199\n",
       "Name: JobSecurity, dtype: int64"
      ]
     },
     "execution_count": 407,
     "metadata": {},
     "output_type": "execute_result"
    }
   ],
   "source": [
    "df.JobSecurity.value_counts()"
   ]
  },
  {
   "cell_type": "code",
   "execution_count": 540,
   "metadata": {},
   "outputs": [
    {
     "name": "stdout",
     "output_type": "stream",
     "text": [
      "                               Column                                           Question\n",
      "0                          Respondent                               Respondent ID number\n",
      "1                        Professional         Which of the following best describes you?\n",
      "2                        ProgramHobby  Do you program as a hobby or contribute to ope...\n",
      "3                             Country            In which country do you currently live?\n",
      "4                          University  Are you currently enrolled in a formal, degree...\n",
      "5                    EmploymentStatus  Which of the following best describes your cur...\n",
      "6                     FormalEducation  Which of the following best describes the high...\n",
      "7                      MajorUndergrad  Which of the following best describes your mai...\n",
      "8                          HomeRemote       How often do you work from home or remotely?\n",
      "9                         CompanySize  In terms of the number of employees, how large...\n",
      "10                        CompanyType  Which of the following best describes the type...\n",
      "11                       YearsProgram  How long has it been since you first learned h...\n",
      "12                      YearsCodedJob  For how many years have you coded as part of y...\n",
      "13                  YearsCodedJobPast  For how many years did you code as part of you...\n",
      "14                      DeveloperType          Which of the following best describe you?\n",
      "15                   WebDeveloperType  Which of the following best describes you as a...\n",
      "16                MobileDeveloperType  For which of the following platforms do you de...\n",
      "17                   NonDeveloperType               Which of the following describe you?\n",
      "18                 CareerSatisfaction                         Career satisfaction rating\n",
      "19                    JobSatisfaction                            Job satisfaction rating\n",
      "20                      ExCoderReturn  You said before that you used to code as part ...\n",
      "21                    ExCoderNotForMe  You said before that you used to code as part ...\n",
      "22                     ExCoderBalance  You said before that you used to code as part ...\n",
      "23                     ExCoder10Years  You said before that you used to code as part ...\n",
      "24                    ExCoderBelonged  You said before that you used to code as part ...\n",
      "25                      ExCoderSkills  You said before that you used to code as part ...\n",
      "26                 ExCoderWillNotCode  You said before that you used to code as part ...\n",
      "27                      ExCoderActive  You said before that you used to code as part ...\n",
      "28                       PronounceGIF                        How do you pronounce \"GIF\"?\n",
      "29                     ProblemSolving                            I love solving problems\n",
      "30                     BuildingThings                  Building things is very rewarding\n",
      "31                    LearningNewTech                   Learning new technologies is fun\n",
      "32                      BoringDetails      I tend to get bored by implementation details\n",
      "33                        JobSecurity                    Job security is important to me\n",
      "34                 DiversityImportant            Diversity in the workplace is important\n",
      "35                         AnnoyingUI           It annoys me when software has a poor UI\n",
      "36                  FriendsDevelopers  Most of my friends are developers, engineers, ...\n",
      "37                      RightWrongWay   There's a right and a wrong way to do everything\n",
      "38                UnderstandComputers  Honestly, there's a lot about computers that I...\n",
      "39                        SeriousWork                      I take my work very seriously\n",
      "40                    InvestTimeTools        I invest a lot of time into the tools I use\n",
      "41                        WorkPayCare  I don't really care what I work on, so long as...\n",
      "42                  KinshipDevelopers      I feel a sense of kinship to other developers\n",
      "43                    ChallengeMyself                         I like to challenge myself\n",
      "44                       CompetePeers       I think of myself as competing with my peers\n",
      "45                        ChangeWorld                         I want to change the world\n",
      "46                   JobSeekingStatus  Which of the following best describes your cur...\n",
      "47                       HoursPerWeek  During a typical week, approximately how many ...\n",
      "48                         LastNewJob  When was the last time that you took a job wit...\n",
      "49                  AssessJobIndustry  When you're assessing potential jobs to apply ...\n",
      "50                      AssessJobRole  When you're assessing potential jobs to apply ...\n",
      "51                       AssessJobExp  When you're assessing potential jobs to apply ...\n",
      "52                      AssessJobDept  When you're assessing potential jobs to apply ...\n",
      "53                      AssessJobTech  When you're assessing potential jobs to apply ...\n",
      "54                  AssessJobProjects  When you're assessing potential jobs to apply ...\n",
      "55              AssessJobCompensation  When you're assessing potential jobs to apply ...\n",
      "56                    AssessJobOffice  When you're assessing potential jobs to apply ...\n",
      "57                   AssessJobCommute  When you're assessing potential jobs to apply ...\n",
      "58                    AssessJobRemote  When you're assessing potential jobs to apply ...\n",
      "59                   AssessJobLeaders  When you're assessing potential jobs to apply ...\n",
      "60                 AssessJobProfDevel  When you're assessing potential jobs to apply ...\n",
      "61                 AssessJobDiversity  When you're assessing potential jobs to apply ...\n",
      "62                   AssessJobProduct  When you're assessing potential jobs to apply ...\n",
      "63                  AssessJobFinances  When you're assessing potential jobs to apply ...\n",
      "64                  ImportantBenefits  When it comes to compensation and benefits, ot...\n",
      "65                         ClickyKeys  If two developers are sharing an office, is it...\n",
      "66                         JobProfile  On which of the following sites do you maintai...\n",
      "67                     ResumePrompted  Think back to the last time you updated your r...\n",
      "68                      LearnedHiring  Think back to when you first applied to work f...\n",
      "69          ImportantHiringAlgorithms  Congratulations! You've just been put in charg...\n",
      "70             ImportantHiringTechExp  Congratulations! You've just been put in charg...\n",
      "71       ImportantHiringCommunication  Congratulations! You've just been put in charg...\n",
      "72          ImportantHiringOpenSource  Congratulations! You've just been put in charg...\n",
      "73               ImportantHiringPMExp  Congratulations! You've just been put in charg...\n",
      "74           ImportantHiringCompanies  Congratulations! You've just been put in charg...\n",
      "75              ImportantHiringTitles  Congratulations! You've just been put in charg...\n",
      "76           ImportantHiringEducation  Congratulations! You've just been put in charg...\n",
      "77                 ImportantHiringRep  Congratulations! You've just been put in charg...\n",
      "78   ImportantHiringGettingThingsDone  Congratulations! You've just been put in charg...\n",
      "79                           Currency  Which currency do you use day-to-day? If you'r...\n",
      "80                           Overpaid  Compared to your estimate of your own market v...\n",
      "81                         TabsSpaces                                    Tabs or spaces?\n",
      "82                 EducationImportant  Overall, how important has your formal schooli...\n",
      "83                     EducationTypes  Outside of your formal schooling and education...\n",
      "84                    SelfTaughtTypes  You indicated that you had taught yourself a p...\n",
      "85                  TimeAfterBootcamp  You indicated previously that you went through...\n",
      "86                    CousinEducation  Let's pretend you have a distant cousin. They ...\n",
      "87                          WorkStart  Suppose you could choose your own working hour...\n",
      "88                 HaveWorkedLanguage  Which of the following languages have you done...\n",
      "89                   WantWorkLanguage  Which of the following languages have you done...\n",
      "90                HaveWorkedFramework  Which of the following libraries, frameworks, ...\n",
      "91                  WantWorkFramework  Which of the following libraries, frameworks, ...\n",
      "92                 HaveWorkedDatabase  Which of the following database technologies h...\n",
      "93                   WantWorkDatabase  Which of the following database technologies h...\n",
      "94                 HaveWorkedPlatform  Which of the following platforms have you done...\n",
      "95                   WantWorkPlatform  Which of the following platforms have you done...\n",
      "96                                IDE  Which development environment(s) do you use re...\n",
      "97                AuditoryEnvironment  Suppose you're about to start a few hours of c...\n",
      "98                        Methodology  Which of the following methodologies do you ha...\n",
      "99                     VersionControl  What version control system do you use? If you...\n",
      "100                       CheckInCode  Over the last year, how often have you checked...\n",
      "101                            ShipIt         It's better to ship now and optimize later\n",
      "102                  OtherPeoplesCode  Maintaining other people's code is a form of t...\n",
      "103                 ProjectManagement     Most project management techniques are useless\n",
      "104                    EnjoyDebugging                             I enjoy debugging code\n",
      "105                         InTheZone        I often get “into the zone” when I'm coding\n",
      "106            DifficultCommunication  I have difficulty communicating my ideas to my...\n",
      "107                 CollaborateRemote  It's harder to collaborate with remote peers t...\n",
      "108                      MetricAssess  Congratulations! The bosses at your new employ...\n",
      "109        EquipmentSatisfiedMonitors  Thinking about your main coding workstation, h...\n",
      "110             EquipmentSatisfiedCPU  Thinking about your main coding workstation, h...\n",
      "111             EquipmentSatisfiedRAM  Thinking about your main coding workstation, h...\n",
      "112         EquipmentSatisfiedStorage  Thinking about your main coding workstation, h...\n",
      "113              EquipmentSatisfiedRW  Thinking about your main coding workstation, h...\n",
      "114                 InfluenceInternet  How much influence do you have on purchasing d...\n",
      "115              InfluenceWorkstation  How much influence do you have on purchasing d...\n",
      "116                 InfluenceHardware  How much influence do you have on purchasing d...\n",
      "117                  InfluenceServers  How much influence do you have on purchasing d...\n",
      "118                InfluenceTechStack  How much influence do you have on purchasing d...\n",
      "119                 InfluenceDeptTech  How much influence do you have on purchasing d...\n",
      "120                 InfluenceVizTools  How much influence do you have on purchasing d...\n",
      "121                 InfluenceDatabase  How much influence do you have on purchasing d...\n",
      "122                    InfluenceCloud  How much influence do you have on purchasing d...\n",
      "123              InfluenceConsultants  How much influence do you have on purchasing d...\n",
      "124              InfluenceRecruitment  How much influence do you have on purchasing d...\n",
      "125            InfluenceCommunication  How much influence do you have on purchasing d...\n",
      "126            StackOverflowDescribes         Which of the following best describes you?\n",
      "127         StackOverflowSatisfaction                        Stack Overflow satisfaction\n",
      "128              StackOverflowDevices  Which of the following devices have you used t...\n",
      "129          StackOverflowFoundAnswer  Over the last three months, approximately how ...\n",
      "130           StackOverflowCopiedCode  Over the last three months, approximately how ...\n",
      "131           StackOverflowJobListing  Over the last three months, approximately how ...\n",
      "132          StackOverflowCompanyPage  Over the last three months, approximately how ...\n",
      "133            StackOverflowJobSearch  Over the last three months, approximately how ...\n",
      "134          StackOverflowNewQuestion  Over the last three months, approximately how ...\n",
      "135               StackOverflowAnswer  Over the last three months, approximately how ...\n",
      "136             StackOverflowMetaChat  Over the last three months, approximately how ...\n",
      "137          StackOverflowAdsRelevant       The ads on Stack Overflow are relevant to me\n",
      "138       StackOverflowAdsDistracting          The ads on Stack Overflow are distracting\n",
      "139           StackOverflowModeration         The moderation on Stack Overflow is unfair\n",
      "140            StackOverflowCommunity  I feel like a member of the Stack Overflow com...\n",
      "141              StackOverflowHelpful  The answers and code examples I get on Stack O...\n",
      "142               StackOverflowBetter   Stack Overflow makes the Internet a better place\n",
      "143               StackOverflowWhatDo    I don't know what I'd do without Stack Overflow\n",
      "144            StackOverflowMakeMoney  The people who run Stack Overflow are just in ...\n",
      "145                            Gender  Which of the following do you currently identi...\n",
      "146           HighestEducationParents  What is the highest level of education receive...\n",
      "147                              Race         Which of the following do you identify as?\n",
      "148                        SurveyLong                           This survey was too long\n",
      "149              QuestionsInteresting                     The questions were interesting\n",
      "150                QuestionsConfusing                       The questions were confusing\n",
      "151                 InterestedAnswers  I'm interested in learning how other developer...\n",
      "152                            Salary  What is your current annual base salary, befor...\n",
      "153                    ExpectedSalary  You said before that you are currently learnin...\n"
     ]
    }
   ],
   "source": [
    "print(schema.to_string())"
   ]
  },
  {
   "cell_type": "code",
   "execution_count": 410,
   "metadata": {
    "collapsed": true
   },
   "outputs": [],
   "source": [
    "#We create a data\n",
    "df_q = df[['MajorUndergrad','FormalEducation','HighestEducationParents','JobSecurity']]"
   ]
  },
  {
   "cell_type": "code",
   "execution_count": 411,
   "metadata": {},
   "outputs": [
    {
     "data": {
      "text/html": [
       "<div>\n",
       "<style scoped>\n",
       "    .dataframe tbody tr th:only-of-type {\n",
       "        vertical-align: middle;\n",
       "    }\n",
       "\n",
       "    .dataframe tbody tr th {\n",
       "        vertical-align: top;\n",
       "    }\n",
       "\n",
       "    .dataframe thead th {\n",
       "        text-align: right;\n",
       "    }\n",
       "</style>\n",
       "<table border=\"1\" class=\"dataframe\">\n",
       "  <thead>\n",
       "    <tr style=\"text-align: right;\">\n",
       "      <th></th>\n",
       "      <th>MajorUndergrad</th>\n",
       "      <th>FormalEducation</th>\n",
       "      <th>HighestEducationParents</th>\n",
       "      <th>JobSecurity</th>\n",
       "    </tr>\n",
       "  </thead>\n",
       "  <tbody>\n",
       "    <tr>\n",
       "      <th>0</th>\n",
       "      <td>NaN</td>\n",
       "      <td>Secondary school</td>\n",
       "      <td>High school</td>\n",
       "      <td>Strongly agree</td>\n",
       "    </tr>\n",
       "    <tr>\n",
       "      <th>1</th>\n",
       "      <td>Computer science or software engineering</td>\n",
       "      <td>Some college/university study without earning ...</td>\n",
       "      <td>A master's degree</td>\n",
       "      <td>NaN</td>\n",
       "    </tr>\n",
       "    <tr>\n",
       "      <th>2</th>\n",
       "      <td>Computer science or software engineering</td>\n",
       "      <td>Bachelor's degree</td>\n",
       "      <td>A professional degree</td>\n",
       "      <td>Agree</td>\n",
       "    </tr>\n",
       "    <tr>\n",
       "      <th>3</th>\n",
       "      <td>A non-computer-focused engineering discipline</td>\n",
       "      <td>Doctoral degree</td>\n",
       "      <td>A doctoral degree</td>\n",
       "      <td>Somewhat agree</td>\n",
       "    </tr>\n",
       "    <tr>\n",
       "      <th>4</th>\n",
       "      <td>Computer science or software engineering</td>\n",
       "      <td>Master's degree</td>\n",
       "      <td>NaN</td>\n",
       "      <td>NaN</td>\n",
       "    </tr>\n",
       "  </tbody>\n",
       "</table>\n",
       "</div>"
      ],
      "text/plain": [
       "                                  MajorUndergrad  \\\n",
       "0                                            NaN   \n",
       "1       Computer science or software engineering   \n",
       "2       Computer science or software engineering   \n",
       "3  A non-computer-focused engineering discipline   \n",
       "4       Computer science or software engineering   \n",
       "\n",
       "                                     FormalEducation HighestEducationParents  \\\n",
       "0                                   Secondary school             High school   \n",
       "1  Some college/university study without earning ...       A master's degree   \n",
       "2                                  Bachelor's degree   A professional degree   \n",
       "3                                    Doctoral degree       A doctoral degree   \n",
       "4                                    Master's degree                     NaN   \n",
       "\n",
       "      JobSecurity  \n",
       "0  Strongly agree  \n",
       "1             NaN  \n",
       "2           Agree  \n",
       "3  Somewhat agree  \n",
       "4             NaN  "
      ]
     },
     "execution_count": 411,
     "metadata": {},
     "output_type": "execute_result"
    }
   ],
   "source": [
    "df_q.head()"
   ]
  },
  {
   "cell_type": "code",
   "execution_count": 412,
   "metadata": {
    "collapsed": true
   },
   "outputs": [],
   "source": [
    "#We drop any rows that include NaN values in Job Security since this is the answer we seek for each question. \n",
    "df_nonan = df_q.dropna(subset=['JobSecurity'],axis=0)"
   ]
  },
  {
   "cell_type": "code",
   "execution_count": 413,
   "metadata": {},
   "outputs": [
    {
     "name": "stdout",
     "output_type": "stream",
     "text": [
      "<class 'pandas.core.frame.DataFrame'>\n",
      "Int64Index: 12198 entries, 0 to 19096\n",
      "Data columns (total 4 columns):\n",
      "MajorUndergrad             10375 non-null object\n",
      "FormalEducation            12198 non-null object\n",
      "HighestEducationParents    9759 non-null object\n",
      "JobSecurity                12198 non-null object\n",
      "dtypes: object(4)\n",
      "memory usage: 476.5+ KB\n"
     ]
    }
   ],
   "source": [
    "df_nonan.info()"
   ]
  },
  {
   "cell_type": "markdown",
   "metadata": {},
   "source": [
    "## We change the job security values to a rating range of 1-5, from strongly disagree to strongly agree."
   ]
  },
  {
   "cell_type": "code",
   "execution_count": 414,
   "metadata": {},
   "outputs": [
    {
     "data": {
      "text/plain": [
       "Index(['Agree', 'Somewhat agree', 'Strongly agree', 'Disagree',\n",
       "       'Strongly disagree'],\n",
       "      dtype='object')"
      ]
     },
     "execution_count": 414,
     "metadata": {},
     "output_type": "execute_result"
    }
   ],
   "source": [
    "df_nonan.JobSecurity.value_counts().index"
   ]
  },
  {
   "cell_type": "code",
   "execution_count": 415,
   "metadata": {
    "collapsed": true
   },
   "outputs": [],
   "source": [
    "#This maps job security terms to numbers, as described in the last markdown cell \n",
    "df_num = df_nonan.copy()\n",
    "df_num.JobSecurity = df_nonan.JobSecurity.map({'Agree':4, 'Somewhat agree':3, 'Strongly agree':5, 'Disagree':2,\n",
    "       'Strongly disagree':1})"
   ]
  },
  {
   "cell_type": "code",
   "execution_count": 416,
   "metadata": {},
   "outputs": [
    {
     "data": {
      "text/html": [
       "<div>\n",
       "<style scoped>\n",
       "    .dataframe tbody tr th:only-of-type {\n",
       "        vertical-align: middle;\n",
       "    }\n",
       "\n",
       "    .dataframe tbody tr th {\n",
       "        vertical-align: top;\n",
       "    }\n",
       "\n",
       "    .dataframe thead th {\n",
       "        text-align: right;\n",
       "    }\n",
       "</style>\n",
       "<table border=\"1\" class=\"dataframe\">\n",
       "  <thead>\n",
       "    <tr style=\"text-align: right;\">\n",
       "      <th></th>\n",
       "      <th>MajorUndergrad</th>\n",
       "      <th>FormalEducation</th>\n",
       "      <th>HighestEducationParents</th>\n",
       "      <th>JobSecurity</th>\n",
       "    </tr>\n",
       "  </thead>\n",
       "  <tbody>\n",
       "    <tr>\n",
       "      <th>0</th>\n",
       "      <td>NaN</td>\n",
       "      <td>Secondary school</td>\n",
       "      <td>High school</td>\n",
       "      <td>5</td>\n",
       "    </tr>\n",
       "    <tr>\n",
       "      <th>2</th>\n",
       "      <td>Computer science or software engineering</td>\n",
       "      <td>Bachelor's degree</td>\n",
       "      <td>A professional degree</td>\n",
       "      <td>4</td>\n",
       "    </tr>\n",
       "    <tr>\n",
       "      <th>3</th>\n",
       "      <td>A non-computer-focused engineering discipline</td>\n",
       "      <td>Doctoral degree</td>\n",
       "      <td>A doctoral degree</td>\n",
       "      <td>3</td>\n",
       "    </tr>\n",
       "    <tr>\n",
       "      <th>8</th>\n",
       "      <td>Computer science or software engineering</td>\n",
       "      <td>Bachelor's degree</td>\n",
       "      <td>A bachelor's degree</td>\n",
       "      <td>4</td>\n",
       "    </tr>\n",
       "    <tr>\n",
       "      <th>14</th>\n",
       "      <td>Computer engineering or electrical/electronics...</td>\n",
       "      <td>Professional degree</td>\n",
       "      <td>High school</td>\n",
       "      <td>3</td>\n",
       "    </tr>\n",
       "  </tbody>\n",
       "</table>\n",
       "</div>"
      ],
      "text/plain": [
       "                                       MajorUndergrad      FormalEducation  \\\n",
       "0                                                 NaN     Secondary school   \n",
       "2            Computer science or software engineering    Bachelor's degree   \n",
       "3       A non-computer-focused engineering discipline      Doctoral degree   \n",
       "8            Computer science or software engineering    Bachelor's degree   \n",
       "14  Computer engineering or electrical/electronics...  Professional degree   \n",
       "\n",
       "   HighestEducationParents  JobSecurity  \n",
       "0              High school            5  \n",
       "2    A professional degree            4  \n",
       "3        A doctoral degree            3  \n",
       "8      A bachelor's degree            4  \n",
       "14             High school            3  "
      ]
     },
     "execution_count": 416,
     "metadata": {},
     "output_type": "execute_result"
    }
   ],
   "source": [
    "df_num.head()"
   ]
  },
  {
   "cell_type": "code",
   "execution_count": 417,
   "metadata": {},
   "outputs": [
    {
     "data": {
      "text/plain": [
       "['Computer science or software engineering',\n",
       " 'Computer engineering or electrical/electronics engineering',\n",
       " 'Computer programming or Web development',\n",
       " 'Information technology, networking, or system administration',\n",
       " 'A natural science',\n",
       " 'Mathematics or statistics',\n",
       " 'A non-computer-focused engineering discipline',\n",
       " 'Something else',\n",
       " 'A humanities discipline',\n",
       " 'A business discipline',\n",
       " 'Management information systems',\n",
       " 'Fine arts or performing arts',\n",
       " 'I never declared a major',\n",
       " 'A social science',\n",
       " 'Psychology',\n",
       " 'A health science']"
      ]
     },
     "execution_count": 417,
     "metadata": {},
     "output_type": "execute_result"
    }
   ],
   "source": [
    "df_num.MajorUndergrad.value_counts().index.tolist()"
   ]
  },
  {
   "cell_type": "code",
   "execution_count": 481,
   "metadata": {
    "collapsed": true
   },
   "outputs": [],
   "source": [
    "def mean_jobsec_rating(feat):\n",
    "    \"\"\"\n",
    "    INPUT\n",
    "    feat - feature (string) of the df_num dataframe (not JobSecurity)\n",
    "    \n",
    "    OUTPUT\n",
    "    ser_mean - a series matching the mean job security rating \n",
    "    with the value of the feature\n",
    "    \n",
    "    Perform to obtain ser_mean\n",
    "    This function takes feat and does the following steps to produce ser_mean\n",
    "    1. From a list of feature value count indices, take the mean job security rating of each value\n",
    "    2. Make a list of the means\n",
    "    3. Make a pandas series that matches the mean to its feature value\n",
    "    \n",
    "    \"\"\"    \n",
    "    \n",
    "    mean_list = []\n",
    "    \n",
    "    for i in df_num[feat].value_counts().index.tolist():\n",
    "        mean_list.append(df_num[df_num[feat]==i]['JobSecurity'].mean())\n",
    "    \n",
    "    ser_mean = pd.Series(mean_list,df_num[feat].value_counts().index.tolist())\n",
    "    \n",
    "    return ser_mean"
   ]
  },
  {
   "cell_type": "code",
   "execution_count": 524,
   "metadata": {},
   "outputs": [
    {
     "data": {
      "text/plain": [
       "Computer science or software engineering                        3.764975\n",
       "Computer engineering or electrical/electronics engineering      3.726761\n",
       "Computer programming or Web development                         3.873950\n",
       "Information technology, networking, or system administration    3.892562\n",
       "A natural science                                               3.763598\n",
       "Mathematics or statistics                                       3.703371\n",
       "A non-computer-focused engineering discipline                   3.633867\n",
       "Something else                                                  3.847534\n",
       "A humanities discipline                                         3.834081\n",
       "A business discipline                                           3.806306\n",
       "Management information systems                                  3.737805\n",
       "Fine arts or performing arts                                    3.732026\n",
       "I never declared a major                                        3.617450\n",
       "A social science                                                3.763514\n",
       "Psychology                                                      3.812500\n",
       "A health science                                                3.666667\n",
       "dtype: float64"
      ]
     },
     "execution_count": 524,
     "metadata": {},
     "output_type": "execute_result"
    }
   ],
   "source": [
    "s_maj_mean = mean_jobsec_rating('MajorUndergrad')\n",
    "s_maj_mean"
   ]
  },
  {
   "cell_type": "code",
   "execution_count": 527,
   "metadata": {
    "collapsed": true
   },
   "outputs": [],
   "source": [
    "def std_jobsec_rating_list(ser_mean, feat):\n",
    "    \"\"\"\n",
    "    INPUT\n",
    "    ser_mean - pandas series with feature values (of feat in the desired order) and job security rating means\n",
    "    feat - feature (string) of the df_num dataframe (not JobSecurity)\n",
    "        \n",
    "    OUTPUT\n",
    "    std_list - a list of the standard deviations of job security ratings \n",
    "    for each value of the feature\n",
    "    \n",
    "    Perform to obtain ser_mean\n",
    "    This function takes feat and does the following steps to produce std_list\n",
    "    1. From a list of feature indices, take the standard deviation of job security rating of each value\n",
    "    2. Create a list of these standard deviations\n",
    "    \n",
    "    \"\"\"    \n",
    "    \n",
    "    std_list = []\n",
    "    for i in ser_mean.index.tolist():\n",
    "        std_list.append(df_num[df_num[feat]==i]['JobSecurity'].std())\n",
    "\n",
    "    \n",
    "    return std_list"
   ]
  },
  {
   "cell_type": "code",
   "execution_count": 525,
   "metadata": {},
   "outputs": [
    {
     "data": {
      "text/plain": [
       "[0.9252185029215722,\n",
       " 0.9515950815316228,\n",
       " 0.9326893921678524,\n",
       " 0.9218008559858624,\n",
       " 0.9694349981708598,\n",
       " 0.8812932550501569,\n",
       " 0.9353147489438395,\n",
       " 0.9928032554559634,\n",
       " 0.9272185145021198,\n",
       " 1.0082716073849802,\n",
       " 1.0022233252103498,\n",
       " 0.9528802317994166,\n",
       " 1.0817735402484394,\n",
       " 0.875684272665881,\n",
       " 1.0671873729054748,\n",
       " 1.128152149635533]"
      ]
     },
     "execution_count": 525,
     "metadata": {},
     "output_type": "execute_result"
    }
   ],
   "source": [
    "maj_std = std_jobsec_rating_list(s_maj_mean, 'MajorUndergrad')\n",
    "maj_std"
   ]
  },
  {
   "cell_type": "code",
   "execution_count": 537,
   "metadata": {
    "collapsed": true
   },
   "outputs": [],
   "source": [
    "def jobsec_barplot(series, stddev, savefile=None, fontsize = 16, capsize = 3, title=None):\n",
    "    \"\"\"\n",
    "    INPUT \n",
    "    series - Series returned from mean_jobsec_rating or a sorted series\n",
    "    stddev - List of standard deviations from std_jobsec_rating_list\n",
    "    savefile - The string of the file name to save the plot image as\n",
    "    fontsize - The int size of the font of the axes labels and the title (where 2 is added)\n",
    "    capsize - The int size of the caps at the ends of the error bars\n",
    "    title - The string title of the plot\n",
    "    \n",
    "    OUTPUT\n",
    "    Bar plot of feature values vs. mean job security concern ratings with standard deviation error bars. \n",
    "    \n",
    "    This function takes the series of the features of df_num where the mean job security ratings were taken\n",
    "    and matched with their values. A plot is made using the parameters given, with the standard deviation\n",
    "    lists of the mean values used as error bars.\n",
    "    \n",
    "    \"\"\"\n",
    "    \n",
    "    \n",
    "    plt.figure()\n",
    "    plt.style.use('seaborn')\n",
    "    series.plot(kind='barh',xerr = stddev, fontsize=fontsize,capsize=capsize,error_kw=dict(capthick=1))\n",
    "    plt.xlim(1,5)\n",
    "    plt.xlabel('Job Security concern rating\\n(1-5: strongly disagree - strongly agree)',fontsize=fontsize)\n",
    "    plt.title(title, fontsize=fontsize+2)\n",
    "    plt.savefig(savefile, bbox_inches='tight')\n",
    "    plt.show()"
   ]
  },
  {
   "cell_type": "code",
   "execution_count": 423,
   "metadata": {},
   "outputs": [
    {
     "data": {
      "text/plain": [
       "[\"Bachelor's degree\",\n",
       " \"Master's degree\",\n",
       " \"Some college/university study without earning a bachelor's degree\",\n",
       " 'Secondary school',\n",
       " 'Doctoral degree',\n",
       " 'Primary/elementary school',\n",
       " 'I prefer not to answer',\n",
       " 'Professional degree',\n",
       " 'I never completed any formal education']"
      ]
     },
     "execution_count": 423,
     "metadata": {},
     "output_type": "execute_result"
    }
   ],
   "source": [
    "df_num.FormalEducation.value_counts().index.tolist()"
   ]
  },
  {
   "cell_type": "code",
   "execution_count": 509,
   "metadata": {
    "collapsed": true
   },
   "outputs": [],
   "source": [
    "s_formedu_mean = mean_jobsec_rating('FormalEducation')"
   ]
  },
  {
   "cell_type": "code",
   "execution_count": 510,
   "metadata": {},
   "outputs": [
    {
     "data": {
      "text/plain": [
       "Bachelor's degree                                                    3.812416\n",
       "Master's degree                                                      3.677550\n",
       "Some college/university study without earning a bachelor's degree    3.780539\n",
       "Secondary school                                                     3.769985\n",
       "Doctoral degree                                                      3.783562\n",
       "Primary/elementary school                                            3.767773\n",
       "I prefer not to answer                                               3.806763\n",
       "Professional degree                                                  3.732919\n",
       "I never completed any formal education                               3.631579\n",
       "dtype: float64"
      ]
     },
     "execution_count": 510,
     "metadata": {},
     "output_type": "execute_result"
    }
   ],
   "source": [
    "s_formedu_mean"
   ]
  },
  {
   "cell_type": "code",
   "execution_count": 511,
   "metadata": {
    "collapsed": true
   },
   "outputs": [],
   "source": [
    "#This is to resort them in sort of an order of increasing levels of education\n",
    "s_formedu_mean_sorted = s_formedu_mean[['I prefer not to answer','I never completed any formal education',\n",
    "                                                      'Primary/elementary school','Secondary school',\n",
    "                                                       \"Some college/university study without earning a bachelor's degree\",\n",
    "                                                      \"Bachelor's degree\",\"Master's degree\",\n",
    "                                                      \"Doctoral degree\",\"Professional degree\"]]"
   ]
  },
  {
   "cell_type": "code",
   "execution_count": 512,
   "metadata": {},
   "outputs": [
    {
     "data": {
      "text/plain": [
       "I prefer not to answer                                               3.806763\n",
       "I never completed any formal education                               3.631579\n",
       "Primary/elementary school                                            3.767773\n",
       "Secondary school                                                     3.769985\n",
       "Some college/university study without earning a bachelor's degree    3.780539\n",
       "Bachelor's degree                                                    3.812416\n",
       "Master's degree                                                      3.677550\n",
       "Doctoral degree                                                      3.783562\n",
       "Professional degree                                                  3.732919\n",
       "dtype: float64"
      ]
     },
     "execution_count": 512,
     "metadata": {},
     "output_type": "execute_result"
    }
   ],
   "source": [
    "s_formedu_mean_sorted "
   ]
  },
  {
   "cell_type": "code",
   "execution_count": 515,
   "metadata": {},
   "outputs": [
    {
     "data": {
      "text/plain": [
       "[0.9406425489308137,\n",
       " 1.0935215926922572,\n",
       " 0.9700781831048675,\n",
       " 0.9123245862716516,\n",
       " 0.9494982940922287,\n",
       " 0.9296821653554086,\n",
       " 0.9336848241015702,\n",
       " 0.9719999913272377,\n",
       " 1.0170899909493953]"
      ]
     },
     "execution_count": 515,
     "metadata": {},
     "output_type": "execute_result"
    }
   ],
   "source": [
    "#This takes the standard deviations of job security ratings of means for each formal education level\n",
    "formedu_std = std_jobsec_rating_list(s_formedu_mean_sorted ,'FormalEducation')\n",
    "formedu_std"
   ]
  },
  {
   "cell_type": "code",
   "execution_count": 431,
   "metadata": {},
   "outputs": [
    {
     "data": {
      "text/plain": [
       "[\"A bachelor's degree\",\n",
       " \"A master's degree\",\n",
       " 'High school',\n",
       " \"Some college/university study, no bachelor's degree\",\n",
       " 'A doctoral degree',\n",
       " 'A professional degree',\n",
       " 'Primary/elementary school',\n",
       " \"I don't know/not sure\",\n",
       " 'I prefer not to answer',\n",
       " 'No education']"
      ]
     },
     "execution_count": 431,
     "metadata": {},
     "output_type": "execute_result"
    }
   ],
   "source": [
    "df_num.HighestEducationParents.value_counts().index.tolist()"
   ]
  },
  {
   "cell_type": "code",
   "execution_count": 517,
   "metadata": {
    "collapsed": true
   },
   "outputs": [],
   "source": [
    "s_edupar_mean = mean_jobsec_rating('HighestEducationParents')"
   ]
  },
  {
   "cell_type": "code",
   "execution_count": 518,
   "metadata": {},
   "outputs": [
    {
     "data": {
      "text/plain": [
       "A bachelor's degree                                    3.794872\n",
       "A master's degree                                      3.691370\n",
       "High school                                            3.776775\n",
       "Some college/university study, no bachelor's degree    3.834966\n",
       "A doctoral degree                                      3.651460\n",
       "A professional degree                                  3.693023\n",
       "Primary/elementary school                              3.711688\n",
       "I don't know/not sure                                  3.845771\n",
       "I prefer not to answer                                 3.819767\n",
       "No education                                           3.690909\n",
       "dtype: float64"
      ]
     },
     "execution_count": 518,
     "metadata": {},
     "output_type": "execute_result"
    }
   ],
   "source": [
    "s_edupar_mean"
   ]
  },
  {
   "cell_type": "code",
   "execution_count": 519,
   "metadata": {
    "collapsed": true
   },
   "outputs": [],
   "source": [
    "#This is to resort them in sort of an order of increasing levels of education\n",
    "s_edupar_mean_sorted = s_edupar_mean[['I prefer not to answer',\"I don't know/not sure\",'No education',\n",
    "                                                      'Primary/elementary school','High school',\n",
    "                                                       \"Some college/university study, no bachelor's degree\",\n",
    "                                                      \"A bachelor's degree\",\"A master's degree\",\n",
    "                                                      \"A doctoral degree\",\"A professional degree\"]]"
   ]
  },
  {
   "cell_type": "code",
   "execution_count": 521,
   "metadata": {},
   "outputs": [
    {
     "data": {
      "text/plain": [
       "I prefer not to answer                                 3.819767\n",
       "I don't know/not sure                                  3.845771\n",
       "No education                                           3.690909\n",
       "Primary/elementary school                              3.711688\n",
       "High school                                            3.776775\n",
       "Some college/university study, no bachelor's degree    3.834966\n",
       "A bachelor's degree                                    3.794872\n",
       "A master's degree                                      3.691370\n",
       "A doctoral degree                                      3.651460\n",
       "A professional degree                                  3.693023\n",
       "dtype: float64"
      ]
     },
     "execution_count": 521,
     "metadata": {},
     "output_type": "execute_result"
    }
   ],
   "source": [
    "s_edupar_mean_sorted"
   ]
  },
  {
   "cell_type": "code",
   "execution_count": 522,
   "metadata": {},
   "outputs": [
    {
     "data": {
      "text/plain": [
       "[0.8495364773228915,\n",
       " 0.9225478455685564,\n",
       " 1.0864949979044454,\n",
       " 0.897039985692242,\n",
       " 0.9324517648124488,\n",
       " 0.9460793007691806,\n",
       " 0.9233073872465598,\n",
       " 0.9172524416142609,\n",
       " 0.9754095676744006,\n",
       " 0.9355440058439253]"
      ]
     },
     "execution_count": 522,
     "metadata": {},
     "output_type": "execute_result"
    }
   ],
   "source": [
    "edupar_std = std_jobsec_rating_list(s_edupar_mean_sorted,'HighestEducationParents')\n",
    "edupar_std"
   ]
  },
  {
   "cell_type": "markdown",
   "metadata": {},
   "source": [
    "# Data Understanding: The questions related to the used features (JobSecurity, MajorUndergrad, FormalEducation, HighestEducationParents) are printed out. Plots of feature values vs. job security concern rating is shown for each feature of interest. Trends in the data are looked for but not found, which give answers for the questions of interest."
   ]
  },
  {
   "cell_type": "code",
   "execution_count": 541,
   "metadata": {},
   "outputs": [
    {
     "data": {
      "text/plain": [
       "['Job security is important to me']"
      ]
     },
     "execution_count": 541,
     "metadata": {},
     "output_type": "execute_result"
    }
   ],
   "source": [
    "schema[schema.Column=='JobSecurity'].Question.tolist()"
   ]
  },
  {
   "cell_type": "code",
   "execution_count": 542,
   "metadata": {},
   "outputs": [
    {
     "data": {
      "text/plain": [
       "[\"Which of the following best describes your main field of study (aka 'major') in college or university/for your undergraduate studies?\"]"
      ]
     },
     "execution_count": 542,
     "metadata": {},
     "output_type": "execute_result"
    }
   ],
   "source": [
    "#Using tolist() is an easy way to show the whole question, not cut off\n",
    "schema[schema.Column=='MajorUndergrad'].Question.tolist()"
   ]
  },
  {
   "cell_type": "code",
   "execution_count": 543,
   "metadata": {},
   "outputs": [
    {
     "data": {
      "text/plain": [
       "[\"Which of the following best describes the highest level of formal education that you've completed?\"]"
      ]
     },
     "execution_count": 543,
     "metadata": {},
     "output_type": "execute_result"
    }
   ],
   "source": [
    "schema[schema.Column=='FormalEducation'].Question.tolist()"
   ]
  },
  {
   "cell_type": "code",
   "execution_count": 544,
   "metadata": {},
   "outputs": [
    {
     "data": {
      "text/plain": [
       "['What is the highest level of education received by either of your parents?']"
      ]
     },
     "execution_count": 544,
     "metadata": {},
     "output_type": "execute_result"
    }
   ],
   "source": [
    "schema[schema.Column=='HighestEducationParents'].Question.tolist()"
   ]
  },
  {
   "cell_type": "markdown",
   "metadata": {},
   "source": [
    "### First we ask the question if undergrad major seems to correlate with the concern for job security"
   ]
  },
  {
   "cell_type": "code",
   "execution_count": 539,
   "metadata": {},
   "outputs": [
    {
     "data": {
      "image/png": "[encoded data removed]",
      "text/plain": [
       "<matplotlib.figure.Figure at 0x2004b678f98>"
      ]
     },
     "metadata": {},
     "output_type": "display_data"
    }
   ],
   "source": [
    "jobsec_barplot(s_maj_mean, maj_std,  savefile = 'maj_jobsec.jpg',fontsize = 14, capsize = 2, title='Undergrad Major')"
   ]
  },
  {
   "cell_type": "markdown",
   "metadata": {},
   "source": [
    "#### Under grad major does not appear to correlate with variance over job security concern. The average for each category is between 'somewhat agree' and 'agree', though closer to 'agree'. Values lower in the chart correspond to more science or computer related fields, which shows no increase or decrease in that direction."
   ]
  },
  {
   "cell_type": "markdown",
   "metadata": {},
   "source": [
    "### Next we see if formal education shows a correlation with job security concerns."
   ]
  },
  {
   "cell_type": "code",
   "execution_count": 538,
   "metadata": {},
   "outputs": [
    {
     "data": {
      "image/png": "[encoded data removed]",
      "text/plain": [
       "<matplotlib.figure.Figure at 0x2004b076e10>"
      ]
     },
     "metadata": {},
     "output_type": "display_data"
    }
   ],
   "source": [
    "jobsec_barplot(s_formedu_mean_sorted , formedu_std,  savefile = 'formedu_jobsec.jpg', title='Formal Education')"
   ]
  },
  {
   "cell_type": "markdown",
   "metadata": {},
   "source": [
    "#### Formal education does not seem to correlate with job security concerns. No increase or decrease is seen with increasing levels of formal education. The range corresponds closely to that of undergrad major."
   ]
  },
  {
   "cell_type": "markdown",
   "metadata": {},
   "source": [
    "### Lastly we see if parent education correlated with a job security concern."
   ]
  },
  {
   "cell_type": "code",
   "execution_count": 535,
   "metadata": {},
   "outputs": [
    {
     "data": {
      "image/png": "[encoded data removed]",
      "text/plain": [
       "<matplotlib.figure.Figure at 0x2004b092710>"
      ]
     },
     "metadata": {},
     "output_type": "display_data"
    }
   ],
   "source": [
    "jobsec_barplot(s_edupar_mean_sorted, edupar_std,  savefile = 'edupar_jobsec.jpg', title=\"Parents' Education\")"
   ]
  },
  {
   "cell_type": "markdown",
   "metadata": {},
   "source": [
    "#### Their parents' formal education does not seem to correlate with job security concerns. No increase or decrease is seen with increasing levels of formal education.  The range corresponds closely to that of undergrad major and formal education."
   ]
  },
  {
   "cell_type": "markdown",
   "metadata": {},
   "source": [
    "# Data Modeling: Without any visible trends, no modeling was done. No trends is also an answer to the questions of interest. Thus no categorical variables were needed to be handled by any models. "
   ]
  },
  {
   "cell_type": "markdown",
   "metadata": {},
   "source": [
    "#### Handling of missing values and categorical variables: Rows with a NaN a response in the JobSecurity column were dropped. With the other features used that have missing values, only the means of values that were not NaNs were taken; the NaNs were skipped over in those features (Undergrad Major, FormalEducation and HighestEducationParents). Other features were not used, nor was any machine learning model used. "
   ]
  },
  {
   "cell_type": "markdown",
   "metadata": {},
   "source": [
    "# Evaluate the Results: Thus none of the features of undergrad major, formal education, or parents' formal education seem to correlate to a concern over job security. At least, there is no change in mean to different levels of job security concerns; they all exhibit similar means and standard deviations."
   ]
  },
  {
   "cell_type": "markdown",
   "metadata": {},
   "source": [
    "# Deploy: The data can show that job security concerns tend to be similar across the board for people of different education backgrounds, including their parents. This can be used as a way to share and work on work related stresses."
   ]
  }
 ],
 "metadata": {
  "kernelspec": {
   "display_name": "Python 3",
   "language": "python",
   "name": "python3"
  },
  "language_info": {
   "codemirror_mode": {
    "name": "ipython",
    "version": 3
   },
   "file_extension": ".py",
   "mimetype": "text/x-python",
   "name": "python",
   "nbconvert_exporter": "python",
   "pygments_lexer": "ipython3",
   "version": "3.6.4"
  }
 },
 "nbformat": 4,
 "nbformat_minor": 2
}
